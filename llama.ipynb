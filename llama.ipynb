{
  "cells": [
    {
      "cell_type": "code",
      "execution_count": 1,
      "metadata": {
        "colab": {
          "base_uri": "https://localhost:8080/"
        },
        "id": "uJahq7DYUOQC",
        "outputId": "a8a7e2a7-3c94-4f6b-847d-93f4a0c95ac9"
      },
      "outputs": [
        {
          "output_type": "stream",
          "name": "stdout",
          "text": [
            "Requirement already satisfied: peft in /usr/local/lib/python3.10/dist-packages (0.11.1)\n",
            "Requirement already satisfied: openai in /usr/local/lib/python3.10/dist-packages (1.30.1)\n",
            "Requirement already satisfied: torchviz in /usr/local/lib/python3.10/dist-packages (0.0.2)\n",
            "Requirement already satisfied: numpy>=1.17 in /usr/local/lib/python3.10/dist-packages (from peft) (1.25.2)\n",
            "Requirement already satisfied: packaging>=20.0 in /usr/local/lib/python3.10/dist-packages (from peft) (24.0)\n",
            "Requirement already satisfied: psutil in /usr/local/lib/python3.10/dist-packages (from peft) (5.9.5)\n",
            "Requirement already satisfied: pyyaml in /usr/local/lib/python3.10/dist-packages (from peft) (6.0.1)\n",
            "Requirement already satisfied: torch>=1.13.0 in /usr/local/lib/python3.10/dist-packages (from peft) (2.3.0+cu121)\n",
            "Requirement already satisfied: transformers in /usr/local/lib/python3.10/dist-packages (from peft) (4.41.0)\n",
            "Requirement already satisfied: tqdm in /usr/local/lib/python3.10/dist-packages (from peft) (4.66.4)\n",
            "Requirement already satisfied: accelerate>=0.21.0 in /usr/local/lib/python3.10/dist-packages (from peft) (0.30.1)\n",
            "Requirement already satisfied: safetensors in /usr/local/lib/python3.10/dist-packages (from peft) (0.4.3)\n",
            "Requirement already satisfied: huggingface-hub>=0.17.0 in /usr/local/lib/python3.10/dist-packages (from peft) (0.23.0)\n",
            "Requirement already satisfied: anyio<5,>=3.5.0 in /usr/local/lib/python3.10/dist-packages (from openai) (3.7.1)\n",
            "Requirement already satisfied: distro<2,>=1.7.0 in /usr/lib/python3/dist-packages (from openai) (1.7.0)\n",
            "Requirement already satisfied: httpx<1,>=0.23.0 in /usr/local/lib/python3.10/dist-packages (from openai) (0.27.0)\n",
            "Requirement already satisfied: pydantic<3,>=1.9.0 in /usr/local/lib/python3.10/dist-packages (from openai) (2.7.1)\n",
            "Requirement already satisfied: sniffio in /usr/local/lib/python3.10/dist-packages (from openai) (1.3.1)\n",
            "Requirement already satisfied: typing-extensions<5,>=4.7 in /usr/local/lib/python3.10/dist-packages (from openai) (4.11.0)\n",
            "Requirement already satisfied: graphviz in /usr/local/lib/python3.10/dist-packages (from torchviz) (0.20.3)\n",
            "Requirement already satisfied: idna>=2.8 in /usr/local/lib/python3.10/dist-packages (from anyio<5,>=3.5.0->openai) (3.7)\n",
            "Requirement already satisfied: exceptiongroup in /usr/local/lib/python3.10/dist-packages (from anyio<5,>=3.5.0->openai) (1.2.1)\n",
            "Requirement already satisfied: certifi in /usr/local/lib/python3.10/dist-packages (from httpx<1,>=0.23.0->openai) (2024.2.2)\n",
            "Requirement already satisfied: httpcore==1.* in /usr/local/lib/python3.10/dist-packages (from httpx<1,>=0.23.0->openai) (1.0.5)\n",
            "Requirement already satisfied: h11<0.15,>=0.13 in /usr/local/lib/python3.10/dist-packages (from httpcore==1.*->httpx<1,>=0.23.0->openai) (0.14.0)\n",
            "Requirement already satisfied: filelock in /usr/local/lib/python3.10/dist-packages (from huggingface-hub>=0.17.0->peft) (3.14.0)\n",
            "Requirement already satisfied: fsspec>=2023.5.0 in /usr/local/lib/python3.10/dist-packages (from huggingface-hub>=0.17.0->peft) (2023.6.0)\n",
            "Requirement already satisfied: requests in /usr/local/lib/python3.10/dist-packages (from huggingface-hub>=0.17.0->peft) (2.31.0)\n",
            "Requirement already satisfied: annotated-types>=0.4.0 in /usr/local/lib/python3.10/dist-packages (from pydantic<3,>=1.9.0->openai) (0.6.0)\n",
            "Requirement already satisfied: pydantic-core==2.18.2 in /usr/local/lib/python3.10/dist-packages (from pydantic<3,>=1.9.0->openai) (2.18.2)\n",
            "Requirement already satisfied: sympy in /usr/local/lib/python3.10/dist-packages (from torch>=1.13.0->peft) (1.12)\n",
            "Requirement already satisfied: networkx in /usr/local/lib/python3.10/dist-packages (from torch>=1.13.0->peft) (3.3)\n",
            "Requirement already satisfied: jinja2 in /usr/local/lib/python3.10/dist-packages (from torch>=1.13.0->peft) (3.1.4)\n",
            "Requirement already satisfied: nvidia-cuda-nvrtc-cu12==12.1.105 in /usr/local/lib/python3.10/dist-packages (from torch>=1.13.0->peft) (12.1.105)\n",
            "Requirement already satisfied: nvidia-cuda-runtime-cu12==12.1.105 in /usr/local/lib/python3.10/dist-packages (from torch>=1.13.0->peft) (12.1.105)\n",
            "Requirement already satisfied: nvidia-cuda-cupti-cu12==12.1.105 in /usr/local/lib/python3.10/dist-packages (from torch>=1.13.0->peft) (12.1.105)\n",
            "Requirement already satisfied: nvidia-cudnn-cu12==8.9.2.26 in /usr/local/lib/python3.10/dist-packages (from torch>=1.13.0->peft) (8.9.2.26)\n",
            "Requirement already satisfied: nvidia-cublas-cu12==12.1.3.1 in /usr/local/lib/python3.10/dist-packages (from torch>=1.13.0->peft) (12.1.3.1)\n",
            "Requirement already satisfied: nvidia-cufft-cu12==11.0.2.54 in /usr/local/lib/python3.10/dist-packages (from torch>=1.13.0->peft) (11.0.2.54)\n",
            "Requirement already satisfied: nvidia-curand-cu12==10.3.2.106 in /usr/local/lib/python3.10/dist-packages (from torch>=1.13.0->peft) (10.3.2.106)\n",
            "Requirement already satisfied: nvidia-cusolver-cu12==11.4.5.107 in /usr/local/lib/python3.10/dist-packages (from torch>=1.13.0->peft) (11.4.5.107)\n",
            "Requirement already satisfied: nvidia-cusparse-cu12==12.1.0.106 in /usr/local/lib/python3.10/dist-packages (from torch>=1.13.0->peft) (12.1.0.106)\n",
            "Requirement already satisfied: nvidia-nccl-cu12==2.20.5 in /usr/local/lib/python3.10/dist-packages (from torch>=1.13.0->peft) (2.20.5)\n",
            "Requirement already satisfied: nvidia-nvtx-cu12==12.1.105 in /usr/local/lib/python3.10/dist-packages (from torch>=1.13.0->peft) (12.1.105)\n",
            "Requirement already satisfied: triton==2.3.0 in /usr/local/lib/python3.10/dist-packages (from torch>=1.13.0->peft) (2.3.0)\n",
            "Requirement already satisfied: nvidia-nvjitlink-cu12 in /usr/local/lib/python3.10/dist-packages (from nvidia-cusolver-cu12==11.4.5.107->torch>=1.13.0->peft) (12.5.40)\n",
            "Requirement already satisfied: regex!=2019.12.17 in /usr/local/lib/python3.10/dist-packages (from transformers->peft) (2023.12.25)\n",
            "Requirement already satisfied: tokenizers<0.20,>=0.19 in /usr/local/lib/python3.10/dist-packages (from transformers->peft) (0.19.1)\n",
            "Requirement already satisfied: MarkupSafe>=2.0 in /usr/local/lib/python3.10/dist-packages (from jinja2->torch>=1.13.0->peft) (2.1.5)\n",
            "Requirement already satisfied: charset-normalizer<4,>=2 in /usr/local/lib/python3.10/dist-packages (from requests->huggingface-hub>=0.17.0->peft) (3.3.2)\n",
            "Requirement already satisfied: urllib3<3,>=1.21.1 in /usr/local/lib/python3.10/dist-packages (from requests->huggingface-hub>=0.17.0->peft) (2.0.7)\n",
            "Requirement already satisfied: mpmath>=0.19 in /usr/local/lib/python3.10/dist-packages (from sympy->torch>=1.13.0->peft) (1.3.0)\n"
          ]
        }
      ],
      "source": [
        "!pip install peft openai torchviz"
      ]
    },
    {
      "cell_type": "code",
      "execution_count": 2,
      "metadata": {
        "collapsed": true,
        "id": "OATrzVL1tFhQ",
        "colab": {
          "base_uri": "https://localhost:8080/"
        },
        "outputId": "a2cc1e9e-70c1-4950-c3b4-e40d6b451195"
      },
      "outputs": [
        {
          "output_type": "stream",
          "name": "stdout",
          "text": [
            "Archive:  ./ScienceQA.zip\n",
            "replace ScienceQA/.git/config? [y]es, [n]o, [A]ll, [N]one, [r]ename: \n",
            "error:  invalid response [{ENTER}]\n",
            "replace ScienceQA/.git/config? [y]es, [n]o, [A]ll, [N]one, [r]ename: N\n"
          ]
        }
      ],
      "source": [
        "!unzip ./ScienceQA.zip"
      ]
    },
    {
      "cell_type": "markdown",
      "metadata": {
        "id": "FdlTFPpuTiK5"
      },
      "source": [
        "IMPORT PACKAGES"
      ]
    },
    {
      "cell_type": "code",
      "execution_count": 3,
      "metadata": {
        "id": "c8oMSctITiLD"
      },
      "outputs": [],
      "source": [
        "import os\n",
        "import json\n",
        "from tqdm import tqdm\n",
        "from pprint import pprint"
      ]
    },
    {
      "cell_type": "code",
      "execution_count": 4,
      "metadata": {
        "id": "i6qX93bYTiLF"
      },
      "outputs": [],
      "source": [
        "import numpy as np\n",
        "import pandas as pd\n",
        "import matplotlib.pyplot as plt"
      ]
    },
    {
      "cell_type": "code",
      "execution_count": 5,
      "metadata": {
        "id": "bYXEak3YimPb"
      },
      "outputs": [],
      "source": [
        "import torch\n",
        "import torch.nn as nn\n",
        "import torch.nn.functional as F\n",
        "from torch.utils.data import Dataset\n",
        "from torch.utils.data import DataLoader"
      ]
    },
    {
      "cell_type": "code",
      "execution_count": 6,
      "metadata": {
        "id": "UDYmUEZ1-Se7"
      },
      "outputs": [],
      "source": [
        "from torchviz import make_dot"
      ]
    },
    {
      "cell_type": "code",
      "execution_count": 7,
      "metadata": {
        "id": "KiiP7ZwqTiLG"
      },
      "outputs": [],
      "source": [
        "from peft import PromptTuningConfig, PromptTuningInit, TaskType, get_peft_model"
      ]
    },
    {
      "cell_type": "code",
      "execution_count": 8,
      "metadata": {
        "id": "pCiraqpfVTPu"
      },
      "outputs": [],
      "source": [
        "from huggingface_hub import login"
      ]
    },
    {
      "cell_type": "code",
      "execution_count": 9,
      "metadata": {
        "id": "70iO5uF0TiLH"
      },
      "outputs": [],
      "source": [
        "from transformers import AutoTokenizer, AutoModelForCausalLM, get_linear_schedule_with_warmup"
      ]
    },
    {
      "cell_type": "code",
      "execution_count": 10,
      "metadata": {
        "id": "-zgETj_rTiLH"
      },
      "outputs": [],
      "source": [
        "from ScienceQA.models.base_prompt import *\n",
        "from ScienceQA.models.run_gpt3 import *"
      ]
    },
    {
      "cell_type": "markdown",
      "metadata": {
        "id": "Gh00TdY2TiLH"
      },
      "source": [
        "CONFIGURATION"
      ]
    },
    {
      "cell_type": "code",
      "execution_count": 11,
      "metadata": {
        "id": "sQ43ydumxzjS"
      },
      "outputs": [],
      "source": [
        "LEARNING_RATE = 1e-4\n",
        "BATCH_SIZE = 1\n",
        "NUM_EPOCHS = 50\n",
        "SEQ_LENGTH = 512\n",
        "SOFT_PROMPT_LENGTH = 64\n",
        "MODEL_NAME = 'meta-llama/Meta-Llama-3-8B-Instruct'"
      ]
    },
    {
      "cell_type": "code",
      "execution_count": 12,
      "metadata": {
        "id": "qG9wASWcTiLI"
      },
      "outputs": [],
      "source": [
        "tqdm.pandas()"
      ]
    },
    {
      "cell_type": "code",
      "execution_count": 13,
      "metadata": {
        "id": "RBbbfTAYTiLI"
      },
      "outputs": [],
      "source": [
        "args_dict = {\n",
        "    'data_root': './ScienceQA/data/scienceqa/',\n",
        "    'output_root': './ScienceQA/results/',\n",
        "    'caption_file': './ScienceQA/data/captions.json',\n",
        "    'model': 'Llama-3',\n",
        "    'options': ['A', 'B', 'C', 'D', 'E'],\n",
        "\n",
        "    'label': 'PLAIN',\n",
        "    'test_split': 'val',\n",
        "    'test_number': 3,\n",
        "    'use_caption': True,\n",
        "    'save_every': 10,\n",
        "    'debug': True,\n",
        "    'prompt_format': 'CQM-A',\n",
        "    'shot_number': 3,\n",
        "    'shot_qids': None,\n",
        "    'seed': 42,\n",
        "}"
      ]
    },
    {
      "cell_type": "code",
      "execution_count": 14,
      "metadata": {
        "id": "Or5JjhWgTiLN"
      },
      "outputs": [],
      "source": [
        "class Dict2Class(object):\n",
        "    def __init__(self, my_dict):\n",
        "        for key in my_dict:\n",
        "            setattr(self, key, my_dict[key])"
      ]
    },
    {
      "cell_type": "code",
      "execution_count": 15,
      "metadata": {
        "id": "eBWmYxskTiLN"
      },
      "outputs": [],
      "source": [
        "args = Dict2Class(args_dict)"
      ]
    },
    {
      "cell_type": "code",
      "execution_count": 16,
      "metadata": {
        "id": "Dpvahe56VDcZ"
      },
      "outputs": [],
      "source": [
        "with open('./key.json', 'r') as f:\n",
        "    data = json.load(f)"
      ]
    },
    {
      "cell_type": "code",
      "execution_count": 17,
      "metadata": {
        "id": "j8DDPYEHVHrJ"
      },
      "outputs": [],
      "source": [
        "access_token = data['HF_API_KEY']"
      ]
    },
    {
      "cell_type": "code",
      "execution_count": 18,
      "metadata": {
        "colab": {
          "base_uri": "https://localhost:8080/"
        },
        "id": "j8JxsBNlVQTS",
        "outputId": "b7f34fd5-dcd3-487f-95b5-11794f457d5d"
      },
      "outputs": [
        {
          "output_type": "stream",
          "name": "stdout",
          "text": [
            "Token is valid (permission: read).\n",
            "Your token has been saved in your configured git credential helpers (store).\n",
            "Your token has been saved to /root/.cache/huggingface/token\n",
            "Login successful\n"
          ]
        }
      ],
      "source": [
        "login(token = access_token, add_to_git_credential = True, new_session = True)"
      ]
    },
    {
      "cell_type": "code",
      "execution_count": 19,
      "metadata": {
        "id": "iP6WsMLyig-Q"
      },
      "outputs": [],
      "source": [
        "device = torch.device('cuda' if torch.cuda.is_available() else 'cpu')"
      ]
    },
    {
      "cell_type": "code",
      "execution_count": 20,
      "metadata": {
        "colab": {
          "base_uri": "https://localhost:8080/"
        },
        "id": "zHkIH5f7vDym",
        "outputId": "c54b44ea-b4e7-423b-e049-ce4da88ee88c"
      },
      "outputs": [
        {
          "output_type": "execute_result",
          "data": {
            "text/plain": [
              "device(type='cuda')"
            ]
          },
          "metadata": {},
          "execution_count": 20
        }
      ],
      "source": [
        "device"
      ]
    },
    {
      "cell_type": "markdown",
      "metadata": {
        "id": "DTPlpeq2TiLO"
      },
      "source": [
        "IMPORT DATASET"
      ]
    },
    {
      "cell_type": "code",
      "execution_count": 21,
      "metadata": {
        "colab": {
          "base_uri": "https://localhost:8080/"
        },
        "id": "REKr42ZUTiLO",
        "outputId": "fe3f63cb-c0c8-433c-ad3d-628cebf0098c"
      },
      "outputs": [
        {
          "output_type": "stream",
          "name": "stdout",
          "text": [
            "number of test problems: 3\n",
            "\n",
            "training question ids for prompting:  ['4923', '19795', '4299'] \n",
            "\n"
          ]
        }
      ],
      "source": [
        "problems, qids, shot_qids = load_data(args)"
      ]
    },
    {
      "cell_type": "code",
      "execution_count": 22,
      "metadata": {
        "id": "4KrXPSq3TiLO"
      },
      "outputs": [],
      "source": [
        "result_file = get_result_file(args)"
      ]
    },
    {
      "cell_type": "code",
      "execution_count": 23,
      "metadata": {
        "id": "4tN3F1JkYEUu"
      },
      "outputs": [],
      "source": [
        "df = pd.DataFrame(problems).transpose()"
      ]
    },
    {
      "cell_type": "code",
      "execution_count": 24,
      "metadata": {
        "id": "JoZ3RnSsdX3J"
      },
      "outputs": [],
      "source": [
        "train_df = df[df['split'] == 'train']\n",
        "valid_df = df[df['split'] == 'val']\n",
        "test_df = df[df['split'] == 'test']"
      ]
    },
    {
      "cell_type": "code",
      "execution_count": 25,
      "metadata": {
        "colab": {
          "base_uri": "https://localhost:8080/",
          "height": 1000
        },
        "id": "uVKOHAtnxB1e",
        "outputId": "9206aef8-1727-44ea-9f10-2cdeb5255eb4"
      },
      "outputs": [
        {
          "output_type": "execute_result",
          "data": {
            "text/plain": [
              "                                             question  \\\n",
              "1            Which of these states is farthest north?   \n",
              "2   Identify the question that Tom and Justin's ex...   \n",
              "3   Identify the question that Kathleen and Bryant...   \n",
              "4   Which figure of speech is used in this text?\\n...   \n",
              "5    Which of the following could Gordon's test show?   \n",
              "6   What does the verbal irony in this text sugges...   \n",
              "7   Which animal's mouth is also adapted for botto...   \n",
              "8   Is this a sentence fragment?\\nDuring the const...   \n",
              "9   Which tense does the sentence use?\\nMona will ...   \n",
              "10   Complete the sentence.\\nSewing an apron is a ().   \n",
              "\n",
              "                                              choices answer  \\\n",
              "1       [West Virginia, Louisiana, Arizona, Oklahoma]      0   \n",
              "2   [Do ping pong balls stop rolling along the gro...      1   \n",
              "3   [Does Kathleen's snowboard slide down a hill i...      0   \n",
              "4                              [chiasmus, apostrophe]      1   \n",
              "5   [if the spacecraft was damaged when using a pa...      1   \n",
              "6   [The snoring is loud., The snoring occurs in b...      0   \n",
              "7                           [discus, armored catfish]      1   \n",
              "8                                           [no, yes]      1   \n",
              "9           [present tense, future tense, past tense]      1   \n",
              "10                 [chemical change, physical change]      1   \n",
              "\n",
              "                                                 hint      image  \\\n",
              "1                                                      image.png   \n",
              "2   The passage below describes an experiment. Rea...  image.png   \n",
              "3   The passage below describes an experiment. Rea...  image.png   \n",
              "4                                                           None   \n",
              "5   People can use the engineering-design process ...  image.png   \n",
              "6                                                           None   \n",
              "7   Sturgeons eat invertebrates, plants, and small...  image.png   \n",
              "8                                                           None   \n",
              "9                                                           None   \n",
              "10                                                          None   \n",
              "\n",
              "             task    grade           subject  \\\n",
              "1   closed choice   grade2    social science   \n",
              "2   closed choice   grade8   natural science   \n",
              "3   closed choice   grade7   natural science   \n",
              "4   closed choice  grade11  language science   \n",
              "5   closed choice   grade8   natural science   \n",
              "6   closed choice   grade8  language science   \n",
              "7   closed choice   grade3   natural science   \n",
              "8       yes or no  grade12  language science   \n",
              "9   closed choice   grade2  language science   \n",
              "10  closed choice   grade4   natural science   \n",
              "\n",
              "                                topic                           category  \\\n",
              "1                           geography                          Geography   \n",
              "2   science-and-engineering-practices              Designing experiments   \n",
              "3   science-and-engineering-practices              Designing experiments   \n",
              "4                 figurative-language                   Literary devices   \n",
              "5   science-and-engineering-practices              Engineering practices   \n",
              "6                 figurative-language                   Literary devices   \n",
              "7                             biology                        Adaptations   \n",
              "8                  writing-strategies  Sentences, fragments, and run-ons   \n",
              "9                               verbs                         Verb tense   \n",
              "10                          chemistry       Physical and chemical change   \n",
              "\n",
              "                                                skill  \\\n",
              "1                     Read a map: cardinal directions   \n",
              "2                  Identify the experimental question   \n",
              "3                  Identify the experimental question   \n",
              "4   Classify the figure of speech: anaphora, antit...   \n",
              "5      Evaluate tests of engineering-design solutions   \n",
              "6                         Interpret figures of speech   \n",
              "7        Animal adaptations: beaks, mouths, and necks   \n",
              "8                         Identify sentence fragments   \n",
              "9   Is the sentence in the past, present, or futur...   \n",
              "10             Identify physical and chemical changes   \n",
              "\n",
              "                                              lecture  \\\n",
              "1   Maps have four cardinal directions, or main di...   \n",
              "2   Experiments can be designed to answer specific...   \n",
              "3   Experiments can be designed to answer specific...   \n",
              "4   Figures of speech are words or phrases that us...   \n",
              "5   People can use the engineering-design process ...   \n",
              "6   Figures of speech are words or phrases that us...   \n",
              "7   An adaptation is an inherited trait that helps...   \n",
              "8   A sentence is a group of words that expresses ...   \n",
              "9   Present tense verbs tell you about something t...   \n",
              "10  Chemical changes and physical changes are two ...   \n",
              "\n",
              "                                             solution  split  \\\n",
              "1   To find the answer, look at the compass rose. ...  train   \n",
              "2                                                      train   \n",
              "3                                                      train   \n",
              "4   The text uses apostrophe, a direct address to ...   test   \n",
              "5                                                       test   \n",
              "6   The text uses verbal irony, which involves say...    val   \n",
              "7   Look at the picture of the sturgeon.\\nThe stur...    val   \n",
              "8   This is a sentence fragment. It does not expre...    val   \n",
              "9   The sentence is in future tense. You can tell ...  train   \n",
              "10  Sewing an apron is a physical change. The fabr...  train   \n",
              "\n",
              "                                              caption  \n",
              "1           An aerial view of a painting of a forest.  \n",
              "2     A wooden board with a wooden head on top of it.  \n",
              "3        A man riding skis down a snow covered slope.  \n",
              "4                                                      \n",
              "5                   A large white kite is in the air.  \n",
              "6                                                      \n",
              "7   A fish is sticking out of the top of a fish tank.  \n",
              "8                                                      \n",
              "9                                                      \n",
              "10                                                     "
            ],
            "text/html": [
              "\n",
              "  <div id=\"df-fed6fb79-eaf1-407c-bbc1-a9e0ff96b75b\" class=\"colab-df-container\">\n",
              "    <div>\n",
              "<style scoped>\n",
              "    .dataframe tbody tr th:only-of-type {\n",
              "        vertical-align: middle;\n",
              "    }\n",
              "\n",
              "    .dataframe tbody tr th {\n",
              "        vertical-align: top;\n",
              "    }\n",
              "\n",
              "    .dataframe thead th {\n",
              "        text-align: right;\n",
              "    }\n",
              "</style>\n",
              "<table border=\"1\" class=\"dataframe\">\n",
              "  <thead>\n",
              "    <tr style=\"text-align: right;\">\n",
              "      <th></th>\n",
              "      <th>question</th>\n",
              "      <th>choices</th>\n",
              "      <th>answer</th>\n",
              "      <th>hint</th>\n",
              "      <th>image</th>\n",
              "      <th>task</th>\n",
              "      <th>grade</th>\n",
              "      <th>subject</th>\n",
              "      <th>topic</th>\n",
              "      <th>category</th>\n",
              "      <th>skill</th>\n",
              "      <th>lecture</th>\n",
              "      <th>solution</th>\n",
              "      <th>split</th>\n",
              "      <th>caption</th>\n",
              "    </tr>\n",
              "  </thead>\n",
              "  <tbody>\n",
              "    <tr>\n",
              "      <th>1</th>\n",
              "      <td>Which of these states is farthest north?</td>\n",
              "      <td>[West Virginia, Louisiana, Arizona, Oklahoma]</td>\n",
              "      <td>0</td>\n",
              "      <td></td>\n",
              "      <td>image.png</td>\n",
              "      <td>closed choice</td>\n",
              "      <td>grade2</td>\n",
              "      <td>social science</td>\n",
              "      <td>geography</td>\n",
              "      <td>Geography</td>\n",
              "      <td>Read a map: cardinal directions</td>\n",
              "      <td>Maps have four cardinal directions, or main di...</td>\n",
              "      <td>To find the answer, look at the compass rose. ...</td>\n",
              "      <td>train</td>\n",
              "      <td>An aerial view of a painting of a forest.</td>\n",
              "    </tr>\n",
              "    <tr>\n",
              "      <th>2</th>\n",
              "      <td>Identify the question that Tom and Justin's ex...</td>\n",
              "      <td>[Do ping pong balls stop rolling along the gro...</td>\n",
              "      <td>1</td>\n",
              "      <td>The passage below describes an experiment. Rea...</td>\n",
              "      <td>image.png</td>\n",
              "      <td>closed choice</td>\n",
              "      <td>grade8</td>\n",
              "      <td>natural science</td>\n",
              "      <td>science-and-engineering-practices</td>\n",
              "      <td>Designing experiments</td>\n",
              "      <td>Identify the experimental question</td>\n",
              "      <td>Experiments can be designed to answer specific...</td>\n",
              "      <td></td>\n",
              "      <td>train</td>\n",
              "      <td>A wooden board with a wooden head on top of it.</td>\n",
              "    </tr>\n",
              "    <tr>\n",
              "      <th>3</th>\n",
              "      <td>Identify the question that Kathleen and Bryant...</td>\n",
              "      <td>[Does Kathleen's snowboard slide down a hill i...</td>\n",
              "      <td>0</td>\n",
              "      <td>The passage below describes an experiment. Rea...</td>\n",
              "      <td>image.png</td>\n",
              "      <td>closed choice</td>\n",
              "      <td>grade7</td>\n",
              "      <td>natural science</td>\n",
              "      <td>science-and-engineering-practices</td>\n",
              "      <td>Designing experiments</td>\n",
              "      <td>Identify the experimental question</td>\n",
              "      <td>Experiments can be designed to answer specific...</td>\n",
              "      <td></td>\n",
              "      <td>train</td>\n",
              "      <td>A man riding skis down a snow covered slope.</td>\n",
              "    </tr>\n",
              "    <tr>\n",
              "      <th>4</th>\n",
              "      <td>Which figure of speech is used in this text?\\n...</td>\n",
              "      <td>[chiasmus, apostrophe]</td>\n",
              "      <td>1</td>\n",
              "      <td></td>\n",
              "      <td>None</td>\n",
              "      <td>closed choice</td>\n",
              "      <td>grade11</td>\n",
              "      <td>language science</td>\n",
              "      <td>figurative-language</td>\n",
              "      <td>Literary devices</td>\n",
              "      <td>Classify the figure of speech: anaphora, antit...</td>\n",
              "      <td>Figures of speech are words or phrases that us...</td>\n",
              "      <td>The text uses apostrophe, a direct address to ...</td>\n",
              "      <td>test</td>\n",
              "      <td></td>\n",
              "    </tr>\n",
              "    <tr>\n",
              "      <th>5</th>\n",
              "      <td>Which of the following could Gordon's test show?</td>\n",
              "      <td>[if the spacecraft was damaged when using a pa...</td>\n",
              "      <td>1</td>\n",
              "      <td>People can use the engineering-design process ...</td>\n",
              "      <td>image.png</td>\n",
              "      <td>closed choice</td>\n",
              "      <td>grade8</td>\n",
              "      <td>natural science</td>\n",
              "      <td>science-and-engineering-practices</td>\n",
              "      <td>Engineering practices</td>\n",
              "      <td>Evaluate tests of engineering-design solutions</td>\n",
              "      <td>People can use the engineering-design process ...</td>\n",
              "      <td></td>\n",
              "      <td>test</td>\n",
              "      <td>A large white kite is in the air.</td>\n",
              "    </tr>\n",
              "    <tr>\n",
              "      <th>6</th>\n",
              "      <td>What does the verbal irony in this text sugges...</td>\n",
              "      <td>[The snoring is loud., The snoring occurs in b...</td>\n",
              "      <td>0</td>\n",
              "      <td></td>\n",
              "      <td>None</td>\n",
              "      <td>closed choice</td>\n",
              "      <td>grade8</td>\n",
              "      <td>language science</td>\n",
              "      <td>figurative-language</td>\n",
              "      <td>Literary devices</td>\n",
              "      <td>Interpret figures of speech</td>\n",
              "      <td>Figures of speech are words or phrases that us...</td>\n",
              "      <td>The text uses verbal irony, which involves say...</td>\n",
              "      <td>val</td>\n",
              "      <td></td>\n",
              "    </tr>\n",
              "    <tr>\n",
              "      <th>7</th>\n",
              "      <td>Which animal's mouth is also adapted for botto...</td>\n",
              "      <td>[discus, armored catfish]</td>\n",
              "      <td>1</td>\n",
              "      <td>Sturgeons eat invertebrates, plants, and small...</td>\n",
              "      <td>image.png</td>\n",
              "      <td>closed choice</td>\n",
              "      <td>grade3</td>\n",
              "      <td>natural science</td>\n",
              "      <td>biology</td>\n",
              "      <td>Adaptations</td>\n",
              "      <td>Animal adaptations: beaks, mouths, and necks</td>\n",
              "      <td>An adaptation is an inherited trait that helps...</td>\n",
              "      <td>Look at the picture of the sturgeon.\\nThe stur...</td>\n",
              "      <td>val</td>\n",
              "      <td>A fish is sticking out of the top of a fish tank.</td>\n",
              "    </tr>\n",
              "    <tr>\n",
              "      <th>8</th>\n",
              "      <td>Is this a sentence fragment?\\nDuring the const...</td>\n",
              "      <td>[no, yes]</td>\n",
              "      <td>1</td>\n",
              "      <td></td>\n",
              "      <td>None</td>\n",
              "      <td>yes or no</td>\n",
              "      <td>grade12</td>\n",
              "      <td>language science</td>\n",
              "      <td>writing-strategies</td>\n",
              "      <td>Sentences, fragments, and run-ons</td>\n",
              "      <td>Identify sentence fragments</td>\n",
              "      <td>A sentence is a group of words that expresses ...</td>\n",
              "      <td>This is a sentence fragment. It does not expre...</td>\n",
              "      <td>val</td>\n",
              "      <td></td>\n",
              "    </tr>\n",
              "    <tr>\n",
              "      <th>9</th>\n",
              "      <td>Which tense does the sentence use?\\nMona will ...</td>\n",
              "      <td>[present tense, future tense, past tense]</td>\n",
              "      <td>1</td>\n",
              "      <td></td>\n",
              "      <td>None</td>\n",
              "      <td>closed choice</td>\n",
              "      <td>grade2</td>\n",
              "      <td>language science</td>\n",
              "      <td>verbs</td>\n",
              "      <td>Verb tense</td>\n",
              "      <td>Is the sentence in the past, present, or futur...</td>\n",
              "      <td>Present tense verbs tell you about something t...</td>\n",
              "      <td>The sentence is in future tense. You can tell ...</td>\n",
              "      <td>train</td>\n",
              "      <td></td>\n",
              "    </tr>\n",
              "    <tr>\n",
              "      <th>10</th>\n",
              "      <td>Complete the sentence.\\nSewing an apron is a ().</td>\n",
              "      <td>[chemical change, physical change]</td>\n",
              "      <td>1</td>\n",
              "      <td></td>\n",
              "      <td>None</td>\n",
              "      <td>closed choice</td>\n",
              "      <td>grade4</td>\n",
              "      <td>natural science</td>\n",
              "      <td>chemistry</td>\n",
              "      <td>Physical and chemical change</td>\n",
              "      <td>Identify physical and chemical changes</td>\n",
              "      <td>Chemical changes and physical changes are two ...</td>\n",
              "      <td>Sewing an apron is a physical change. The fabr...</td>\n",
              "      <td>train</td>\n",
              "      <td></td>\n",
              "    </tr>\n",
              "  </tbody>\n",
              "</table>\n",
              "</div>\n",
              "    <div class=\"colab-df-buttons\">\n",
              "\n",
              "  <div class=\"colab-df-container\">\n",
              "    <button class=\"colab-df-convert\" onclick=\"convertToInteractive('df-fed6fb79-eaf1-407c-bbc1-a9e0ff96b75b')\"\n",
              "            title=\"Convert this dataframe to an interactive table.\"\n",
              "            style=\"display:none;\">\n",
              "\n",
              "  <svg xmlns=\"http://www.w3.org/2000/svg\" height=\"24px\" viewBox=\"0 -960 960 960\">\n",
              "    <path d=\"M120-120v-720h720v720H120Zm60-500h600v-160H180v160Zm220 220h160v-160H400v160Zm0 220h160v-160H400v160ZM180-400h160v-160H180v160Zm440 0h160v-160H620v160ZM180-180h160v-160H180v160Zm440 0h160v-160H620v160Z\"/>\n",
              "  </svg>\n",
              "    </button>\n",
              "\n",
              "  <style>\n",
              "    .colab-df-container {\n",
              "      display:flex;\n",
              "      gap: 12px;\n",
              "    }\n",
              "\n",
              "    .colab-df-convert {\n",
              "      background-color: #E8F0FE;\n",
              "      border: none;\n",
              "      border-radius: 50%;\n",
              "      cursor: pointer;\n",
              "      display: none;\n",
              "      fill: #1967D2;\n",
              "      height: 32px;\n",
              "      padding: 0 0 0 0;\n",
              "      width: 32px;\n",
              "    }\n",
              "\n",
              "    .colab-df-convert:hover {\n",
              "      background-color: #E2EBFA;\n",
              "      box-shadow: 0px 1px 2px rgba(60, 64, 67, 0.3), 0px 1px 3px 1px rgba(60, 64, 67, 0.15);\n",
              "      fill: #174EA6;\n",
              "    }\n",
              "\n",
              "    .colab-df-buttons div {\n",
              "      margin-bottom: 4px;\n",
              "    }\n",
              "\n",
              "    [theme=dark] .colab-df-convert {\n",
              "      background-color: #3B4455;\n",
              "      fill: #D2E3FC;\n",
              "    }\n",
              "\n",
              "    [theme=dark] .colab-df-convert:hover {\n",
              "      background-color: #434B5C;\n",
              "      box-shadow: 0px 1px 3px 1px rgba(0, 0, 0, 0.15);\n",
              "      filter: drop-shadow(0px 1px 2px rgba(0, 0, 0, 0.3));\n",
              "      fill: #FFFFFF;\n",
              "    }\n",
              "  </style>\n",
              "\n",
              "    <script>\n",
              "      const buttonEl =\n",
              "        document.querySelector('#df-fed6fb79-eaf1-407c-bbc1-a9e0ff96b75b button.colab-df-convert');\n",
              "      buttonEl.style.display =\n",
              "        google.colab.kernel.accessAllowed ? 'block' : 'none';\n",
              "\n",
              "      async function convertToInteractive(key) {\n",
              "        const element = document.querySelector('#df-fed6fb79-eaf1-407c-bbc1-a9e0ff96b75b');\n",
              "        const dataTable =\n",
              "          await google.colab.kernel.invokeFunction('convertToInteractive',\n",
              "                                                    [key], {});\n",
              "        if (!dataTable) return;\n",
              "\n",
              "        const docLinkHtml = 'Like what you see? Visit the ' +\n",
              "          '<a target=\"_blank\" href=https://colab.research.google.com/notebooks/data_table.ipynb>data table notebook</a>'\n",
              "          + ' to learn more about interactive tables.';\n",
              "        element.innerHTML = '';\n",
              "        dataTable['output_type'] = 'display_data';\n",
              "        await google.colab.output.renderOutput(dataTable, element);\n",
              "        const docLink = document.createElement('div');\n",
              "        docLink.innerHTML = docLinkHtml;\n",
              "        element.appendChild(docLink);\n",
              "      }\n",
              "    </script>\n",
              "  </div>\n",
              "\n",
              "\n",
              "<div id=\"df-b7865a06-0920-44df-8710-95ea952d1213\">\n",
              "  <button class=\"colab-df-quickchart\" onclick=\"quickchart('df-b7865a06-0920-44df-8710-95ea952d1213')\"\n",
              "            title=\"Suggest charts\"\n",
              "            style=\"display:none;\">\n",
              "\n",
              "<svg xmlns=\"http://www.w3.org/2000/svg\" height=\"24px\"viewBox=\"0 0 24 24\"\n",
              "     width=\"24px\">\n",
              "    <g>\n",
              "        <path d=\"M19 3H5c-1.1 0-2 .9-2 2v14c0 1.1.9 2 2 2h14c1.1 0 2-.9 2-2V5c0-1.1-.9-2-2-2zM9 17H7v-7h2v7zm4 0h-2V7h2v10zm4 0h-2v-4h2v4z\"/>\n",
              "    </g>\n",
              "</svg>\n",
              "  </button>\n",
              "\n",
              "<style>\n",
              "  .colab-df-quickchart {\n",
              "      --bg-color: #E8F0FE;\n",
              "      --fill-color: #1967D2;\n",
              "      --hover-bg-color: #E2EBFA;\n",
              "      --hover-fill-color: #174EA6;\n",
              "      --disabled-fill-color: #AAA;\n",
              "      --disabled-bg-color: #DDD;\n",
              "  }\n",
              "\n",
              "  [theme=dark] .colab-df-quickchart {\n",
              "      --bg-color: #3B4455;\n",
              "      --fill-color: #D2E3FC;\n",
              "      --hover-bg-color: #434B5C;\n",
              "      --hover-fill-color: #FFFFFF;\n",
              "      --disabled-bg-color: #3B4455;\n",
              "      --disabled-fill-color: #666;\n",
              "  }\n",
              "\n",
              "  .colab-df-quickchart {\n",
              "    background-color: var(--bg-color);\n",
              "    border: none;\n",
              "    border-radius: 50%;\n",
              "    cursor: pointer;\n",
              "    display: none;\n",
              "    fill: var(--fill-color);\n",
              "    height: 32px;\n",
              "    padding: 0;\n",
              "    width: 32px;\n",
              "  }\n",
              "\n",
              "  .colab-df-quickchart:hover {\n",
              "    background-color: var(--hover-bg-color);\n",
              "    box-shadow: 0 1px 2px rgba(60, 64, 67, 0.3), 0 1px 3px 1px rgba(60, 64, 67, 0.15);\n",
              "    fill: var(--button-hover-fill-color);\n",
              "  }\n",
              "\n",
              "  .colab-df-quickchart-complete:disabled,\n",
              "  .colab-df-quickchart-complete:disabled:hover {\n",
              "    background-color: var(--disabled-bg-color);\n",
              "    fill: var(--disabled-fill-color);\n",
              "    box-shadow: none;\n",
              "  }\n",
              "\n",
              "  .colab-df-spinner {\n",
              "    border: 2px solid var(--fill-color);\n",
              "    border-color: transparent;\n",
              "    border-bottom-color: var(--fill-color);\n",
              "    animation:\n",
              "      spin 1s steps(1) infinite;\n",
              "  }\n",
              "\n",
              "  @keyframes spin {\n",
              "    0% {\n",
              "      border-color: transparent;\n",
              "      border-bottom-color: var(--fill-color);\n",
              "      border-left-color: var(--fill-color);\n",
              "    }\n",
              "    20% {\n",
              "      border-color: transparent;\n",
              "      border-left-color: var(--fill-color);\n",
              "      border-top-color: var(--fill-color);\n",
              "    }\n",
              "    30% {\n",
              "      border-color: transparent;\n",
              "      border-left-color: var(--fill-color);\n",
              "      border-top-color: var(--fill-color);\n",
              "      border-right-color: var(--fill-color);\n",
              "    }\n",
              "    40% {\n",
              "      border-color: transparent;\n",
              "      border-right-color: var(--fill-color);\n",
              "      border-top-color: var(--fill-color);\n",
              "    }\n",
              "    60% {\n",
              "      border-color: transparent;\n",
              "      border-right-color: var(--fill-color);\n",
              "    }\n",
              "    80% {\n",
              "      border-color: transparent;\n",
              "      border-right-color: var(--fill-color);\n",
              "      border-bottom-color: var(--fill-color);\n",
              "    }\n",
              "    90% {\n",
              "      border-color: transparent;\n",
              "      border-bottom-color: var(--fill-color);\n",
              "    }\n",
              "  }\n",
              "</style>\n",
              "\n",
              "  <script>\n",
              "    async function quickchart(key) {\n",
              "      const quickchartButtonEl =\n",
              "        document.querySelector('#' + key + ' button');\n",
              "      quickchartButtonEl.disabled = true;  // To prevent multiple clicks.\n",
              "      quickchartButtonEl.classList.add('colab-df-spinner');\n",
              "      try {\n",
              "        const charts = await google.colab.kernel.invokeFunction(\n",
              "            'suggestCharts', [key], {});\n",
              "      } catch (error) {\n",
              "        console.error('Error during call to suggestCharts:', error);\n",
              "      }\n",
              "      quickchartButtonEl.classList.remove('colab-df-spinner');\n",
              "      quickchartButtonEl.classList.add('colab-df-quickchart-complete');\n",
              "    }\n",
              "    (() => {\n",
              "      let quickchartButtonEl =\n",
              "        document.querySelector('#df-b7865a06-0920-44df-8710-95ea952d1213 button');\n",
              "      quickchartButtonEl.style.display =\n",
              "        google.colab.kernel.accessAllowed ? 'block' : 'none';\n",
              "    })();\n",
              "  </script>\n",
              "</div>\n",
              "\n",
              "    </div>\n",
              "  </div>\n"
            ],
            "application/vnd.google.colaboratory.intrinsic+json": {
              "type": "dataframe",
              "summary": "{\n  \"name\": \"pd\",\n  \"rows\": 10,\n  \"fields\": [\n    {\n      \"column\": \"question\",\n      \"properties\": {\n        \"dtype\": \"string\",\n        \"num_unique_values\": 10,\n        \"samples\": [\n          \"Which tense does the sentence use?\\nMona will print her name with care.\",\n          \"Identify the question that Tom and Justin's experiment can best answer.\",\n          \"What does the verbal irony in this text suggest?\\nAccording to Mr. Herrera's kids, his snoring is as quiet as a jackhammer.\"\n        ],\n        \"semantic_type\": \"\",\n        \"description\": \"\"\n      }\n    },\n    {\n      \"column\": \"choices\",\n      \"properties\": {\n        \"dtype\": \"object\",\n        \"semantic_type\": \"\",\n        \"description\": \"\"\n      }\n    },\n    {\n      \"column\": \"answer\",\n      \"properties\": {\n        \"dtype\": \"date\",\n        \"min\": 0,\n        \"max\": 1,\n        \"num_unique_values\": 2,\n        \"samples\": [\n          1,\n          0\n        ],\n        \"semantic_type\": \"\",\n        \"description\": \"\"\n      }\n    },\n    {\n      \"column\": \"hint\",\n      \"properties\": {\n        \"dtype\": \"string\",\n        \"num_unique_values\": 5,\n        \"samples\": [\n          \"The passage below describes an experiment. Read the passage and then follow the instructions below.\\n\\nTom placed a ping pong ball in a catapult, pulled the catapult's arm back to a 45\\u00b0 angle, and launched the ball. Then, Tom launched another ping pong ball, this time pulling the catapult's arm back to a 30\\u00b0 angle. With each launch, his friend Justin measured the distance between the catapult and the place where the ball hit the ground. Tom and Justin repeated the launches with ping pong balls in four more identical catapults. They compared the distances the balls traveled when launched from a 45\\u00b0 angle to the distances the balls traveled when launched from a 30\\u00b0 angle.\\nFigure: a catapult for launching ping pong balls.\",\n          \"Sturgeons eat invertebrates, plants, and small fish. They are bottom feeders. Bottom feeders find their food at the bottom of rivers, lakes, and the ocean.\\nThe 's mouth is located on the underside of its head and points downward. Its mouth is adapted for bottom feeding.\\nFigure: sturgeon.\"\n        ],\n        \"semantic_type\": \"\",\n        \"description\": \"\"\n      }\n    },\n    {\n      \"column\": \"image\",\n      \"properties\": {\n        \"dtype\": \"category\",\n        \"num_unique_values\": 1,\n        \"samples\": [\n          \"image.png\"\n        ],\n        \"semantic_type\": \"\",\n        \"description\": \"\"\n      }\n    },\n    {\n      \"column\": \"task\",\n      \"properties\": {\n        \"dtype\": \"category\",\n        \"num_unique_values\": 2,\n        \"samples\": [\n          \"yes or no\"\n        ],\n        \"semantic_type\": \"\",\n        \"description\": \"\"\n      }\n    },\n    {\n      \"column\": \"grade\",\n      \"properties\": {\n        \"dtype\": \"string\",\n        \"num_unique_values\": 7,\n        \"samples\": [\n          \"grade2\"\n        ],\n        \"semantic_type\": \"\",\n        \"description\": \"\"\n      }\n    },\n    {\n      \"column\": \"subject\",\n      \"properties\": {\n        \"dtype\": \"category\",\n        \"num_unique_values\": 3,\n        \"samples\": [\n          \"social science\"\n        ],\n        \"semantic_type\": \"\",\n        \"description\": \"\"\n      }\n    },\n    {\n      \"column\": \"topic\",\n      \"properties\": {\n        \"dtype\": \"string\",\n        \"num_unique_values\": 7,\n        \"samples\": [\n          \"geography\"\n        ],\n        \"semantic_type\": \"\",\n        \"description\": \"\"\n      }\n    },\n    {\n      \"column\": \"category\",\n      \"properties\": {\n        \"dtype\": \"string\",\n        \"num_unique_values\": 8,\n        \"samples\": [\n          \"Designing experiments\"\n        ],\n        \"semantic_type\": \"\",\n        \"description\": \"\"\n      }\n    },\n    {\n      \"column\": \"skill\",\n      \"properties\": {\n        \"dtype\": \"string\",\n        \"num_unique_values\": 9,\n        \"samples\": [\n          \"Is the sentence in the past, present, or future tense?\"\n        ],\n        \"semantic_type\": \"\",\n        \"description\": \"\"\n      }\n    },\n    {\n      \"column\": \"lecture\",\n      \"properties\": {\n        \"dtype\": \"string\",\n        \"num_unique_values\": 9,\n        \"samples\": [\n          \"Present tense verbs tell you about something that is happening now.\\nMost present-tense verbs are regular. They have no ending, or they end in -s or -es.\\nTwo verbs are irregular in the present tense, to be and to have. You must remember their forms.\\nPast tense verbs tell you about something that has already happened.\\nMost past-tense verbs are regular. They end in -ed.\\nSome verbs are irregular in the past tense. You must remember their past-tense forms.\\nFuture tense verbs tell you about something that is going to happen.\\nAll future-tense verbs use the word will.\\nPresent | Past | Future\\nwalk, walks | walked | will walk\\ngo, goes | went | will go\"\n        ],\n        \"semantic_type\": \"\",\n        \"description\": \"\"\n      }\n    },\n    {\n      \"column\": \"solution\",\n      \"properties\": {\n        \"dtype\": \"string\",\n        \"num_unique_values\": 8,\n        \"samples\": [\n          \"\"\n        ],\n        \"semantic_type\": \"\",\n        \"description\": \"\"\n      }\n    },\n    {\n      \"column\": \"split\",\n      \"properties\": {\n        \"dtype\": \"category\",\n        \"num_unique_values\": 3,\n        \"samples\": [\n          \"train\"\n        ],\n        \"semantic_type\": \"\",\n        \"description\": \"\"\n      }\n    },\n    {\n      \"column\": \"caption\",\n      \"properties\": {\n        \"dtype\": \"string\",\n        \"num_unique_values\": 6,\n        \"samples\": [\n          \"An aerial view of a painting of a forest.\"\n        ],\n        \"semantic_type\": \"\",\n        \"description\": \"\"\n      }\n    }\n  ]\n}"
            }
          },
          "metadata": {},
          "execution_count": 25
        }
      ],
      "source": [
        "pd.concat((df, df.loc[qids])).head(10)"
      ]
    },
    {
      "cell_type": "code",
      "execution_count": 26,
      "metadata": {
        "colab": {
          "base_uri": "https://localhost:8080/"
        },
        "id": "8uHUwasF5Xyr",
        "outputId": "409f4a18-9719-4147-ceac-4ae6d45a54b5"
      },
      "outputs": [
        {
          "output_type": "stream",
          "name": "stderr",
          "text": [
            "/usr/local/lib/python3.10/dist-packages/huggingface_hub/utils/_token.py:89: UserWarning: \n",
            "The secret `HF_TOKEN` does not exist in your Colab secrets.\n",
            "To authenticate with the Hugging Face Hub, create a token in your settings tab (https://huggingface.co/settings/tokens), set it as secret in your Google Colab and restart your session.\n",
            "You will be able to reuse this secret in all of your notebooks.\n",
            "Please note that authentication is recommended but still optional to access public models or datasets.\n",
            "  warnings.warn(\n",
            "Special tokens have been added in the vocabulary, make sure the associated word embeddings are fine-tuned or trained.\n"
          ]
        }
      ],
      "source": [
        "tokenizer = AutoTokenizer.from_pretrained(MODEL_NAME)\n",
        "tokenizer.pad_token = tokenizer.eos_token"
      ]
    },
    {
      "cell_type": "code",
      "execution_count": 27,
      "metadata": {
        "id": "GqV_PG0RdmWl"
      },
      "outputs": [],
      "source": [
        "class ScienceQADataset(Dataset):\n",
        "    def __init__(self, df, shot_qids, args, shot_df, tokenizer):\n",
        "        super().__init__()\n",
        "        self.prompts = []\n",
        "\n",
        "        shot_added_df = pd.concat((df, shot_df))\n",
        "        shot_added_dict = shot_added_df.transpose().to_dict()\n",
        "\n",
        "        for qid in tqdm([str(x) for x in df.index if x not in shot_qids]):\n",
        "            prompt = build_prompt(shot_added_dict, shot_qids, qid, args)\n",
        "\n",
        "            self.prompts.append(prompt)\n",
        "        self.answers = df.progress_apply(lambda x : x['choices'][x['answer']], axis = 1).to_list()\n",
        "        self.distractors = df.progress_apply(lambda x : ';'.join([choice for choice in x['choices'] if choice is not x['choices'][x['answer']]]), axis = 1).to_list()\n",
        "\n",
        "    def __len__(self):\n",
        "        return len(self.prompts)\n",
        "\n",
        "    def __getitem__(self, index):\n",
        "        return self.prompts[index], self.answers[index], self.distractors[index]"
      ]
    },
    {
      "cell_type": "code",
      "execution_count": 28,
      "metadata": {
        "colab": {
          "base_uri": "https://localhost:8080/"
        },
        "id": "a_V2ZKM-vKNW",
        "outputId": "461bb99f-2e7a-4fd9-ebce-febbdadd33c9"
      },
      "outputs": [
        {
          "output_type": "stream",
          "name": "stderr",
          "text": [
            "<ipython-input-27-030c201d570f>:7: UserWarning: DataFrame columns are not unique, some columns will be omitted.\n",
            "  shot_added_dict = shot_added_df.transpose().to_dict()\n",
            "100%|██████████| 12723/12723 [00:00<00:00, 47395.69it/s]\n",
            "100%|██████████| 12726/12726 [00:00<00:00, 100788.56it/s]\n",
            "100%|██████████| 12726/12726 [00:00<00:00, 52981.31it/s]\n",
            "100%|██████████| 4241/4241 [00:00<00:00, 47537.34it/s]\n",
            "100%|██████████| 4241/4241 [00:00<00:00, 113496.27it/s]\n",
            "100%|██████████| 4241/4241 [00:00<00:00, 52777.72it/s]\n",
            "100%|██████████| 4241/4241 [00:00<00:00, 42750.26it/s]\n",
            "100%|██████████| 4241/4241 [00:00<00:00, 114605.56it/s]\n",
            "100%|██████████| 4241/4241 [00:00<00:00, 53557.15it/s]\n"
          ]
        }
      ],
      "source": [
        "train_dataset = ScienceQADataset(train_df, shot_qids, args, df.loc[shot_qids], tokenizer)\n",
        "valid_dataset = ScienceQADataset(valid_df, shot_qids, args, df.loc[shot_qids], tokenizer)\n",
        "test_dataset = ScienceQADataset(test_df, shot_qids, args, df.loc[shot_qids], tokenizer)"
      ]
    },
    {
      "cell_type": "code",
      "execution_count": 29,
      "metadata": {
        "id": "r_6Shwqjxpmw"
      },
      "outputs": [],
      "source": [
        "train_dataloader = DataLoader(train_dataset, shuffle = False, batch_size = BATCH_SIZE)\n",
        "valid_dataloader = DataLoader(valid_dataset, shuffle = False, batch_size = BATCH_SIZE)\n",
        "test_dataloader = DataLoader(test_dataset, shuffle = False, batch_size = BATCH_SIZE)"
      ]
    },
    {
      "cell_type": "markdown",
      "metadata": {
        "id": "EZoEDNtCTiLP"
      },
      "source": [
        "IMPORT MODEL"
      ]
    },
    {
      "cell_type": "code",
      "execution_count": 30,
      "metadata": {
        "colab": {
          "base_uri": "https://localhost:8080/",
          "height": 49,
          "referenced_widgets": [
            "67c8ec055b7f4eb4b1da70039308e587",
            "a7f94424a1e84efa89af667c32188114",
            "c9fe4e5ec4b74e569de5fc6626ec5407",
            "199f01e851f44172b46892415eb424a2",
            "e5c64971c5434c5a887452c160989a2d",
            "f601b14dd35345edbba450f043528885",
            "ef8b84e23b9f47d6ae8cca1fee70089c",
            "a4524214880448e9a8ec80f4b457c234",
            "f33daafee767452ebd8116c45a2fef62",
            "11df58f74c7a420d9605c38db32984a5",
            "e75f14b0f44e4b829e167df287284cd7"
          ]
        },
        "id": "hlcsryXUTiLP",
        "outputId": "49bfc8cc-999a-4a12-9a27-5b4189512c1b"
      },
      "outputs": [
        {
          "output_type": "display_data",
          "data": {
            "text/plain": [
              "Loading checkpoint shards:   0%|          | 0/4 [00:00<?, ?it/s]"
            ],
            "application/vnd.jupyter.widget-view+json": {
              "version_major": 2,
              "version_minor": 0,
              "model_id": "67c8ec055b7f4eb4b1da70039308e587"
            }
          },
          "metadata": {}
        }
      ],
      "source": [
        "model = AutoModelForCausalLM.from_pretrained(MODEL_NAME, trust_remote_code = True)"
      ]
    },
    {
      "cell_type": "code",
      "execution_count": 31,
      "metadata": {
        "id": "xVlyTfEew_q5"
      },
      "outputs": [],
      "source": [
        "model = model.to(device)"
      ]
    },
    {
      "cell_type": "markdown",
      "metadata": {
        "id": "mDCIMFqWTiLP"
      },
      "source": [
        "PROMPT TESTING"
      ]
    },
    {
      "cell_type": "code",
      "execution_count": 32,
      "metadata": {
        "id": "fmhWZjbdTiLP"
      },
      "outputs": [],
      "source": [
        "# prompts = []\n",
        "# for qid in qids:\n",
        "#     prompt = build_prompt(problems, shot_qids, qid, args)\n",
        "#     prompts.append(prompt)"
      ]
    },
    {
      "cell_type": "code",
      "execution_count": 33,
      "metadata": {
        "id": "zpE0fwnSljE4"
      },
      "outputs": [],
      "source": [
        "# inputs = tokenizer(prompts, max_length = SEQ_LENGTH, truncation = True, padding = True, return_tensors = 'pt')\n",
        "# # inputs['input_ids'] = inputs['input_ids'].to(device)\n",
        "# # inputs['attention_mask'] = inputs['attention_mask'].to(device)"
      ]
    },
    {
      "cell_type": "code",
      "execution_count": 34,
      "metadata": {
        "id": "QvnTn7PAsZUK"
      },
      "outputs": [],
      "source": [
        "# inputs['input_ids'] = inputs['input_ids'].to(device)\n",
        "# inputs['attention_mask'] = inputs['attention_mask'].to(device)"
      ]
    },
    {
      "cell_type": "code",
      "execution_count": 35,
      "metadata": {
        "id": "BsszGrtLmn76"
      },
      "outputs": [],
      "source": [
        "# outputs = model.generate(**inputs)"
      ]
    },
    {
      "cell_type": "code",
      "execution_count": 36,
      "metadata": {
        "id": "fSwVllRN16-z"
      },
      "outputs": [],
      "source": [
        "# prompts[0]"
      ]
    },
    {
      "cell_type": "code",
      "execution_count": 37,
      "metadata": {
        "collapsed": true,
        "id": "73ZHR6XMiedT"
      },
      "outputs": [],
      "source": [
        "# pprint(tokenizer.decode(outputs[0]))"
      ]
    },
    {
      "cell_type": "markdown",
      "metadata": {
        "id": "H4U9oXPABr2d"
      },
      "source": [
        "PEFT SETTING"
      ]
    },
    {
      "cell_type": "code",
      "execution_count": 38,
      "metadata": {
        "id": "ab72FyCc_X_-"
      },
      "outputs": [],
      "source": [
        "peft_config = PromptTuningConfig(\n",
        "    task_type = TaskType.CAUSAL_LM,\n",
        "    prompt_tuning_init = PromptTuningInit.TEXT,\n",
        "    num_virtual_tokens = SOFT_PROMPT_LENGTH,\n",
        "    tokenizer_name_or_path = MODEL_NAME,\n",
        "    prompt_tuning_init_text=\"Answer correctly to following question. Try your best to reduce hallucination.\",\n",
        ")"
      ]
    },
    {
      "cell_type": "code",
      "execution_count": 39,
      "metadata": {
        "id": "A23rhUkxBsjl",
        "colab": {
          "base_uri": "https://localhost:8080/"
        },
        "outputId": "690abc9d-9454-4477-d089-cefde63d3e6f"
      },
      "outputs": [
        {
          "output_type": "stream",
          "name": "stderr",
          "text": [
            "Special tokens have been added in the vocabulary, make sure the associated word embeddings are fine-tuned or trained.\n"
          ]
        }
      ],
      "source": [
        "peft_model = get_peft_model(model, peft_config)"
      ]
    },
    {
      "cell_type": "code",
      "execution_count": 40,
      "metadata": {
        "id": "kny94vqOG8bb",
        "colab": {
          "base_uri": "https://localhost:8080/"
        },
        "outputId": "884ab337-5508-4eca-92e1-deed81b1dfaf"
      },
      "outputs": [
        {
          "output_type": "stream",
          "name": "stdout",
          "text": [
            "trainable params: 262,144 || all params: 8,030,523,392 || trainable%: 0.0033\n",
            "None\n"
          ]
        }
      ],
      "source": [
        "print(peft_model.print_trainable_parameters())"
      ]
    },
    {
      "cell_type": "markdown",
      "metadata": {
        "id": "aG30WbuHzW5G"
      },
      "source": [
        "TRAINING"
      ]
    },
    {
      "cell_type": "code",
      "execution_count": 41,
      "metadata": {
        "id": "kieiBzZOG_O3"
      },
      "outputs": [],
      "source": [
        "optimizer = torch.optim.AdamW(peft_model.parameters(), lr = LEARNING_RATE)\n",
        "\n",
        "lr_scheduler = get_linear_schedule_with_warmup(\n",
        "    optimizer = optimizer,\n",
        "    num_warmup_steps = 0,\n",
        "    num_training_steps = (len(train_dataloader) * NUM_EPOCHS),\n",
        ")"
      ]
    },
    {
      "cell_type": "code",
      "execution_count": 42,
      "metadata": {
        "id": "TgnYDaqxu0ZT"
      },
      "outputs": [],
      "source": [
        "train_losses = []\n",
        "valid_losses = []"
      ]
    },
    {
      "cell_type": "code",
      "execution_count": null,
      "metadata": {
        "colab": {
          "base_uri": "https://localhost:8080/"
        },
        "id": "5zF-gQvMzF5I",
        "outputId": "8ff4bbc4-2d51-4ef6-b316-04d741ca7bdc"
      },
      "outputs": [
        {
          "output_type": "stream",
          "name": "stdout",
          "text": [
            "[0/50] proceeded.\n"
          ]
        },
        {
          "output_type": "stream",
          "name": "stderr",
          "text": [
            "100%|██████████| 12723/12723 [2:32:33<00:00,  1.39it/s]\n",
            "100%|██████████| 4241/4241 [25:31<00:00,  2.77it/s]\n"
          ]
        },
        {
          "output_type": "stream",
          "name": "stdout",
          "text": [
            "train loss: 0.31372362315557545, valid loss: 0.25509189780335106\n",
            "\n",
            "[1/50] proceeded.\n"
          ]
        },
        {
          "output_type": "stream",
          "name": "stderr",
          "text": [
            " 35%|███▌      | 4515/12723 [54:02<1:33:30,  1.46it/s]"
          ]
        }
      ],
      "source": [
        "for epoch in range(NUM_EPOCHS):\n",
        "    print(f'[{epoch}/{NUM_EPOCHS}] proceeded.')\n",
        "\n",
        "    model.train()\n",
        "    train_loss = 0.0\n",
        "\n",
        "    for index, (prompts, answers, distractors) in enumerate(tqdm(train_dataloader)):\n",
        "        optimizer.zero_grad()\n",
        "\n",
        "        inputs = tokenizer(prompts, max_length = SEQ_LENGTH, truncation = True, padding = True, return_tensors = 'pt')\n",
        "\n",
        "        inputs['input_ids'] = inputs['input_ids'].to(device)\n",
        "        inputs['attention_mask'] = inputs['attention_mask'].to(device)\n",
        "\n",
        "        outputs = peft_model(**inputs, labels = inputs['input_ids'])\n",
        "        loss = outputs.loss\n",
        "        loss.backward()\n",
        "        optimizer.step()\n",
        "\n",
        "        train_loss += loss.item()\n",
        "\n",
        "    model.eval()\n",
        "    valid_loss = 0.0\n",
        "\n",
        "    with torch.no_grad():\n",
        "        for index, (prompts, answers, distractors) in enumerate(tqdm(valid_dataloader)):\n",
        "            inputs = tokenizer(prompts, max_length = SEQ_LENGTH, truncation = True, padding = True, return_tensors = 'pt')\n",
        "\n",
        "            inputs['input_ids'] = inputs['input_ids'].to(device)\n",
        "            inputs['attention_mask'] = inputs['attention_mask'].to(device)\n",
        "\n",
        "            outputs = peft_model(**inputs, labels = inputs['input_ids'])\n",
        "            loss = outputs.loss\n",
        "\n",
        "            valid_loss += loss.item()\n",
        "\n",
        "    train_loss = train_loss / len(train_dataloader)\n",
        "    valid_loss = valid_loss / len(valid_dataloader)\n",
        "\n",
        "    print(f'train loss: {train_loss}, valid loss: {valid_loss}')\n",
        "    print()"
      ]
    },
    {
      "cell_type": "code",
      "execution_count": null,
      "metadata": {
        "id": "OOwAvhqKTmh6"
      },
      "outputs": [],
      "source": [
        "import pickle\n",
        "\n",
        "peft_model.save_pretrained('./model.pt')\n",
        "\n",
        "with open('train_losses.pkl', 'wb') as f:\n",
        "    pickle.dump(train_losses, f)\n",
        "\n",
        "with open('train_losses.pkl', 'wb') as f:\n",
        "    pickle.dump(valid_losses, f)"
      ]
    },
    {
      "cell_type": "code",
      "source": [],
      "metadata": {
        "id": "DQNSaQ3V0qfW"
      },
      "execution_count": null,
      "outputs": []
    }
  ],
  "metadata": {
    "accelerator": "GPU",
    "colab": {
      "gpuType": "A100",
      "machine_shape": "hm",
      "provenance": []
    },
    "kernelspec": {
      "display_name": "MIT",
      "language": "python",
      "name": "mit"
    },
    "language_info": {
      "codemirror_mode": {
        "name": "ipython",
        "version": 3
      },
      "file_extension": ".py",
      "mimetype": "text/x-python",
      "name": "python",
      "nbconvert_exporter": "python",
      "pygments_lexer": "ipython3",
      "version": "3.10.13"
    },
    "widgets": {
      "application/vnd.jupyter.widget-state+json": {
        "67c8ec055b7f4eb4b1da70039308e587": {
          "model_module": "@jupyter-widgets/controls",
          "model_name": "HBoxModel",
          "model_module_version": "1.5.0",
          "state": {
            "_dom_classes": [],
            "_model_module": "@jupyter-widgets/controls",
            "_model_module_version": "1.5.0",
            "_model_name": "HBoxModel",
            "_view_count": null,
            "_view_module": "@jupyter-widgets/controls",
            "_view_module_version": "1.5.0",
            "_view_name": "HBoxView",
            "box_style": "",
            "children": [
              "IPY_MODEL_a7f94424a1e84efa89af667c32188114",
              "IPY_MODEL_c9fe4e5ec4b74e569de5fc6626ec5407",
              "IPY_MODEL_199f01e851f44172b46892415eb424a2"
            ],
            "layout": "IPY_MODEL_e5c64971c5434c5a887452c160989a2d"
          }
        },
        "a7f94424a1e84efa89af667c32188114": {
          "model_module": "@jupyter-widgets/controls",
          "model_name": "HTMLModel",
          "model_module_version": "1.5.0",
          "state": {
            "_dom_classes": [],
            "_model_module": "@jupyter-widgets/controls",
            "_model_module_version": "1.5.0",
            "_model_name": "HTMLModel",
            "_view_count": null,
            "_view_module": "@jupyter-widgets/controls",
            "_view_module_version": "1.5.0",
            "_view_name": "HTMLView",
            "description": "",
            "description_tooltip": null,
            "layout": "IPY_MODEL_f601b14dd35345edbba450f043528885",
            "placeholder": "​",
            "style": "IPY_MODEL_ef8b84e23b9f47d6ae8cca1fee70089c",
            "value": "Loading checkpoint shards: 100%"
          }
        },
        "c9fe4e5ec4b74e569de5fc6626ec5407": {
          "model_module": "@jupyter-widgets/controls",
          "model_name": "FloatProgressModel",
          "model_module_version": "1.5.0",
          "state": {
            "_dom_classes": [],
            "_model_module": "@jupyter-widgets/controls",
            "_model_module_version": "1.5.0",
            "_model_name": "FloatProgressModel",
            "_view_count": null,
            "_view_module": "@jupyter-widgets/controls",
            "_view_module_version": "1.5.0",
            "_view_name": "ProgressView",
            "bar_style": "success",
            "description": "",
            "description_tooltip": null,
            "layout": "IPY_MODEL_a4524214880448e9a8ec80f4b457c234",
            "max": 4,
            "min": 0,
            "orientation": "horizontal",
            "style": "IPY_MODEL_f33daafee767452ebd8116c45a2fef62",
            "value": 4
          }
        },
        "199f01e851f44172b46892415eb424a2": {
          "model_module": "@jupyter-widgets/controls",
          "model_name": "HTMLModel",
          "model_module_version": "1.5.0",
          "state": {
            "_dom_classes": [],
            "_model_module": "@jupyter-widgets/controls",
            "_model_module_version": "1.5.0",
            "_model_name": "HTMLModel",
            "_view_count": null,
            "_view_module": "@jupyter-widgets/controls",
            "_view_module_version": "1.5.0",
            "_view_name": "HTMLView",
            "description": "",
            "description_tooltip": null,
            "layout": "IPY_MODEL_11df58f74c7a420d9605c38db32984a5",
            "placeholder": "​",
            "style": "IPY_MODEL_e75f14b0f44e4b829e167df287284cd7",
            "value": " 4/4 [00:04&lt;00:00,  1.06s/it]"
          }
        },
        "e5c64971c5434c5a887452c160989a2d": {
          "model_module": "@jupyter-widgets/base",
          "model_name": "LayoutModel",
          "model_module_version": "1.2.0",
          "state": {
            "_model_module": "@jupyter-widgets/base",
            "_model_module_version": "1.2.0",
            "_model_name": "LayoutModel",
            "_view_count": null,
            "_view_module": "@jupyter-widgets/base",
            "_view_module_version": "1.2.0",
            "_view_name": "LayoutView",
            "align_content": null,
            "align_items": null,
            "align_self": null,
            "border": null,
            "bottom": null,
            "display": null,
            "flex": null,
            "flex_flow": null,
            "grid_area": null,
            "grid_auto_columns": null,
            "grid_auto_flow": null,
            "grid_auto_rows": null,
            "grid_column": null,
            "grid_gap": null,
            "grid_row": null,
            "grid_template_areas": null,
            "grid_template_columns": null,
            "grid_template_rows": null,
            "height": null,
            "justify_content": null,
            "justify_items": null,
            "left": null,
            "margin": null,
            "max_height": null,
            "max_width": null,
            "min_height": null,
            "min_width": null,
            "object_fit": null,
            "object_position": null,
            "order": null,
            "overflow": null,
            "overflow_x": null,
            "overflow_y": null,
            "padding": null,
            "right": null,
            "top": null,
            "visibility": null,
            "width": null
          }
        },
        "f601b14dd35345edbba450f043528885": {
          "model_module": "@jupyter-widgets/base",
          "model_name": "LayoutModel",
          "model_module_version": "1.2.0",
          "state": {
            "_model_module": "@jupyter-widgets/base",
            "_model_module_version": "1.2.0",
            "_model_name": "LayoutModel",
            "_view_count": null,
            "_view_module": "@jupyter-widgets/base",
            "_view_module_version": "1.2.0",
            "_view_name": "LayoutView",
            "align_content": null,
            "align_items": null,
            "align_self": null,
            "border": null,
            "bottom": null,
            "display": null,
            "flex": null,
            "flex_flow": null,
            "grid_area": null,
            "grid_auto_columns": null,
            "grid_auto_flow": null,
            "grid_auto_rows": null,
            "grid_column": null,
            "grid_gap": null,
            "grid_row": null,
            "grid_template_areas": null,
            "grid_template_columns": null,
            "grid_template_rows": null,
            "height": null,
            "justify_content": null,
            "justify_items": null,
            "left": null,
            "margin": null,
            "max_height": null,
            "max_width": null,
            "min_height": null,
            "min_width": null,
            "object_fit": null,
            "object_position": null,
            "order": null,
            "overflow": null,
            "overflow_x": null,
            "overflow_y": null,
            "padding": null,
            "right": null,
            "top": null,
            "visibility": null,
            "width": null
          }
        },
        "ef8b84e23b9f47d6ae8cca1fee70089c": {
          "model_module": "@jupyter-widgets/controls",
          "model_name": "DescriptionStyleModel",
          "model_module_version": "1.5.0",
          "state": {
            "_model_module": "@jupyter-widgets/controls",
            "_model_module_version": "1.5.0",
            "_model_name": "DescriptionStyleModel",
            "_view_count": null,
            "_view_module": "@jupyter-widgets/base",
            "_view_module_version": "1.2.0",
            "_view_name": "StyleView",
            "description_width": ""
          }
        },
        "a4524214880448e9a8ec80f4b457c234": {
          "model_module": "@jupyter-widgets/base",
          "model_name": "LayoutModel",
          "model_module_version": "1.2.0",
          "state": {
            "_model_module": "@jupyter-widgets/base",
            "_model_module_version": "1.2.0",
            "_model_name": "LayoutModel",
            "_view_count": null,
            "_view_module": "@jupyter-widgets/base",
            "_view_module_version": "1.2.0",
            "_view_name": "LayoutView",
            "align_content": null,
            "align_items": null,
            "align_self": null,
            "border": null,
            "bottom": null,
            "display": null,
            "flex": null,
            "flex_flow": null,
            "grid_area": null,
            "grid_auto_columns": null,
            "grid_auto_flow": null,
            "grid_auto_rows": null,
            "grid_column": null,
            "grid_gap": null,
            "grid_row": null,
            "grid_template_areas": null,
            "grid_template_columns": null,
            "grid_template_rows": null,
            "height": null,
            "justify_content": null,
            "justify_items": null,
            "left": null,
            "margin": null,
            "max_height": null,
            "max_width": null,
            "min_height": null,
            "min_width": null,
            "object_fit": null,
            "object_position": null,
            "order": null,
            "overflow": null,
            "overflow_x": null,
            "overflow_y": null,
            "padding": null,
            "right": null,
            "top": null,
            "visibility": null,
            "width": null
          }
        },
        "f33daafee767452ebd8116c45a2fef62": {
          "model_module": "@jupyter-widgets/controls",
          "model_name": "ProgressStyleModel",
          "model_module_version": "1.5.0",
          "state": {
            "_model_module": "@jupyter-widgets/controls",
            "_model_module_version": "1.5.0",
            "_model_name": "ProgressStyleModel",
            "_view_count": null,
            "_view_module": "@jupyter-widgets/base",
            "_view_module_version": "1.2.0",
            "_view_name": "StyleView",
            "bar_color": null,
            "description_width": ""
          }
        },
        "11df58f74c7a420d9605c38db32984a5": {
          "model_module": "@jupyter-widgets/base",
          "model_name": "LayoutModel",
          "model_module_version": "1.2.0",
          "state": {
            "_model_module": "@jupyter-widgets/base",
            "_model_module_version": "1.2.0",
            "_model_name": "LayoutModel",
            "_view_count": null,
            "_view_module": "@jupyter-widgets/base",
            "_view_module_version": "1.2.0",
            "_view_name": "LayoutView",
            "align_content": null,
            "align_items": null,
            "align_self": null,
            "border": null,
            "bottom": null,
            "display": null,
            "flex": null,
            "flex_flow": null,
            "grid_area": null,
            "grid_auto_columns": null,
            "grid_auto_flow": null,
            "grid_auto_rows": null,
            "grid_column": null,
            "grid_gap": null,
            "grid_row": null,
            "grid_template_areas": null,
            "grid_template_columns": null,
            "grid_template_rows": null,
            "height": null,
            "justify_content": null,
            "justify_items": null,
            "left": null,
            "margin": null,
            "max_height": null,
            "max_width": null,
            "min_height": null,
            "min_width": null,
            "object_fit": null,
            "object_position": null,
            "order": null,
            "overflow": null,
            "overflow_x": null,
            "overflow_y": null,
            "padding": null,
            "right": null,
            "top": null,
            "visibility": null,
            "width": null
          }
        },
        "e75f14b0f44e4b829e167df287284cd7": {
          "model_module": "@jupyter-widgets/controls",
          "model_name": "DescriptionStyleModel",
          "model_module_version": "1.5.0",
          "state": {
            "_model_module": "@jupyter-widgets/controls",
            "_model_module_version": "1.5.0",
            "_model_name": "DescriptionStyleModel",
            "_view_count": null,
            "_view_module": "@jupyter-widgets/base",
            "_view_module_version": "1.2.0",
            "_view_name": "StyleView",
            "description_width": ""
          }
        }
      }
    }
  },
  "nbformat": 4,
  "nbformat_minor": 0
}